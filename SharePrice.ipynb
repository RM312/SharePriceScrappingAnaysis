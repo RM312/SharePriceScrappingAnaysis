{
 "cells": [
  {
   "cell_type": "code",
   "execution_count": 2,
   "id": "03348c07-b92a-414d-a6a1-e496c89ebd67",
   "metadata": {},
   "outputs": [],
   "source": [
    "urls = [\n",
    "    'https://groww.in/us-stocks/nke',\n",
    "    'https://groww.in/us-stocks/ko', \n",
    "    'https://groww.in/us-stocks/msft', \n",
    "    'https://groww.in/stocks/m-india-ltd', \n",
    "    'https://groww.in/us-stocks/axp', \n",
    "    'https://groww.in/us-stocks/amgn', \n",
    "    'https://groww.in/us-stocks/aapl', \n",
    "    'https://groww.in/us-stocks/ba', \n",
    "    'https://groww.in/us-stocks/csco', \n",
    "    'https://groww.in/us-stocks/gs', \n",
    "    'https://groww.in/us-stocks/ibm', \n",
    "    'https://groww.in/us-stocks/intc', \n",
    "    'https://groww.in/us-stocks/jpm', \n",
    "    'https://groww.in/us-stocks/mcd',\n",
    "    'https://groww.in/us-stocks/crm', \n",
    "    'https://groww.in/us-stocks/vz', \n",
    "    'https://groww.in/us-stocks/v', \n",
    "    'https://groww.in/us-stocks/wmt',  \n",
    "    'https://groww.in/us-stocks/dis'\n",
    "    ]"
   ]
  },
  {
   "cell_type": "code",
   "execution_count": 3,
   "id": "a822e6ca-736b-4c6f-a136-c42b8c9896e2",
   "metadata": {},
   "outputs": [],
   "source": [
    "import requests\n",
    "from bs4 import BeautifulSoup\n",
    "import pandas as pd\n",
    "import time\n",
    "\n",
    "headers = {'user-agent':'Mozilla/5.0 \\\n",
    "            (Windows NT 10.0; Win64; x64) \\\n",
    "            AppleWebKit/537.36 (KHTML, like Gecko) \\\n",
    "            Chrome/84.0.4147.105 Safari/537.36'}\n"
   ]
  },
  {
   "cell_type": "code",
   "execution_count": 4,
   "id": "a9537cd3-1c22-4d15-9373-a16508c157f6",
   "metadata": {},
   "outputs": [
    {
     "name": "stdout",
     "output_type": "stream",
     "text": [
      "Change the Element id\n",
      "Change the Element id\n",
      "Change the Element id\n",
      "Change the Element id\n",
      "Change the Element id\n",
      "Change the Element id\n",
      "Change the Element id\n",
      "Change the Element id\n",
      "Change the Element id\n",
      "Change the Element id\n",
      "Change the Element id\n",
      "Change the Element id\n",
      "Change the Element id\n",
      "Change the Element id\n",
      "Change the Element id\n",
      "Change the Element id\n"
     ]
    }
   ],
   "source": [
    "all=[]\n",
    "for url in urls:\n",
    "    page = requests.get(url,headers=headers)\n",
    "    try:\n",
    "        soup = BeautifulSoup(page.text, 'html.parser')\n",
    "        company = soup.find('h1', {'class': 'usph14Head displaySmall'}).text\n",
    "        price = soup.find('span', {'class': 'uht141Pri contentPrimary displayBase'}).text\n",
    "        change = soup.find('div', {'class': 'uht141Day bodyBaseHeavy contentNegative'}).text\n",
    "        volume=soup.find('table', {'class': 'tb10Table col l5'}).find_all('td')[1].text\n",
    "        x=[company,price,change,volume]\n",
    "        all.append(x)\n",
    "        \n",
    "    except AttributeError:\n",
    "      print(\"Change the Element id\")\n",
    "    time.sleep(10)\n",
    "    \n"
   ]
  },
  {
   "cell_type": "code",
   "execution_count": 5,
   "id": "ff79a965-a674-476e-a8ab-942a13e44305",
   "metadata": {},
   "outputs": [
    {
     "data": {
      "text/html": [
       "<div>\n",
       "<style scoped>\n",
       "    .dataframe tbody tr th:only-of-type {\n",
       "        vertical-align: middle;\n",
       "    }\n",
       "\n",
       "    .dataframe tbody tr th {\n",
       "        vertical-align: top;\n",
       "    }\n",
       "\n",
       "    .dataframe thead th {\n",
       "        text-align: right;\n",
       "    }\n",
       "</style>\n",
       "<table border=\"1\" class=\"dataframe\">\n",
       "  <thead>\n",
       "    <tr style=\"text-align: right;\">\n",
       "      <th></th>\n",
       "      <th>Company</th>\n",
       "      <th>Price</th>\n",
       "      <th>Change</th>\n",
       "      <th>Volume</th>\n",
       "    </tr>\n",
       "  </thead>\n",
       "  <tbody>\n",
       "    <tr>\n",
       "      <th>0</th>\n",
       "      <td>Coca-Cola Company The</td>\n",
       "      <td>$71.60</td>\n",
       "      <td>-0.15(0.21%) 1D</td>\n",
       "      <td>$309.23B</td>\n",
       "    </tr>\n",
       "    <tr>\n",
       "      <th>1</th>\n",
       "      <td>Verizon Communications Inc</td>\n",
       "      <td>$43.82</td>\n",
       "      <td>-0.06(0.14%) 1D</td>\n",
       "      <td>$184.71B</td>\n",
       "    </tr>\n",
       "    <tr>\n",
       "      <th>2</th>\n",
       "      <td>Walmart Inc</td>\n",
       "      <td>$78.95</td>\n",
       "      <td>-0.08(0.10%) 1D</td>\n",
       "      <td>$635.26B</td>\n",
       "    </tr>\n",
       "  </tbody>\n",
       "</table>\n",
       "</div>"
      ],
      "text/plain": [
       "                      Company   Price           Change    Volume\n",
       "0       Coca-Cola Company The  $71.60  -0.15(0.21%) 1D  $309.23B\n",
       "1  Verizon Communications Inc  $43.82  -0.06(0.14%) 1D  $184.71B\n",
       "2                 Walmart Inc  $78.95  -0.08(0.10%) 1D  $635.26B"
      ]
     },
     "execution_count": 5,
     "metadata": {},
     "output_type": "execute_result"
    }
   ],
   "source": [
    "column_names = [\"Company\", \"Price\", \"Change\", \"Volume\"]\n",
    "df = pd.DataFrame(columns=column_names)\n",
    "for i in all:\n",
    "    index = 0\n",
    "    df.loc[index] = i\n",
    "    df.index = df.index + 1\n",
    "df = df.reset_index(drop=True)\n",
    "df\n"
   ]
  },
  {
   "cell_type": "code",
   "execution_count": 6,
   "id": "8a289ccc-2a9a-428b-8f61-6e9e4933a719",
   "metadata": {},
   "outputs": [],
   "source": [
    "df.to_excel('stocks.xlsx')"
   ]
  },
  {
   "cell_type": "code",
   "execution_count": null,
   "id": "31d8a2bd-3999-4dc2-b01c-01f4a1966247",
   "metadata": {},
   "outputs": [],
   "source": []
  }
 ],
 "metadata": {
  "kernelspec": {
   "display_name": "Python 3 (ipykernel)",
   "language": "python",
   "name": "python3"
  },
  "language_info": {
   "codemirror_mode": {
    "name": "ipython",
    "version": 3
   },
   "file_extension": ".py",
   "mimetype": "text/x-python",
   "name": "python",
   "nbconvert_exporter": "python",
   "pygments_lexer": "ipython3",
   "version": "3.12.2"
  }
 },
 "nbformat": 4,
 "nbformat_minor": 5
}
